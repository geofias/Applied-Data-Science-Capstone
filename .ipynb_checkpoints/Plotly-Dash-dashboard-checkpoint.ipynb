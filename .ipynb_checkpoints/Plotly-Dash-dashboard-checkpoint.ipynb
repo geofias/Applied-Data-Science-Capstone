{
 "cells": [
  {
   "cell_type": "code",
   "execution_count": null,
   "id": "0e3d1311-4610-4e88-b79b-bc3e54a2d1bb",
   "metadata": {},
   "outputs": [],
   "source": [
    "# Import required libraries\n",
    "import pandas as pd\n",
    "import dash\n",
    "from dash import html\n",
    "from dash import dcc\n",
    "from dash.dependencies import Input, Output\n",
    "import plotly.express as px"
   ]
  },
  {
   "cell_type": "code",
   "execution_count": null,
   "id": "b6ea968e-8b33-4235-b545-77eb131df4b1",
   "metadata": {},
   "outputs": [],
   "source": [
    "# Read the airline data into pandas dataframe\n",
    "spacex_df = pd.read_csv(\"spacex_launch_dash.csv\")\n",
    "max_payload = spacex_df['Payload Mass (kg)'].max()\n",
    "min_payload = spacex_df['Payload Mass (kg)'].min()"
   ]
  },
  {
   "cell_type": "code",
   "execution_count": null,
   "id": "0817be10-cea7-4d31-9d1d-797840b27247",
   "metadata": {},
   "outputs": [],
   "source": [
    "# Create a dash application\n",
    "app = dash.Dash(__name__)"
   ]
  },
  {
   "cell_type": "code",
   "execution_count": null,
   "id": "3f70fc55-6d7e-4484-8c26-f2030ba1f37a",
   "metadata": {},
   "outputs": [],
   "source": [
    "# Create an app layout\n",
    "app.layout = html.Div(children=[html.H1('SpaceX Launch Records Dashboard',\n",
    "                                        style={'textAlign': 'center', 'color': '#503D36',\n",
    "                                               'font-size': 40}),\n",
    "                                # TASK 1: Add a dropdown list to enable Launch Site selection\n",
    "                                # The default select value is for ALL sites\n",
    "                                # dcc.Dropdown(id='site-dropdown',...)\n",
    "                                dcc.Dropdown(id='site-dropdown',\n",
    "                                options=[\n",
    "                                {'label': 'All Sites', 'value': 'ALL'},\n",
    "                                {'label': 'CCAFS LC-40', 'value': 'CCAFS LC-40'},\n",
    "                                {'label': 'VAFB SLC-4E', 'value': 'VAFB SLC-4E'},\n",
    "                                {'label': 'KSC LC-39A', 'value': 'KSC LC-39A'},\n",
    "                                {'label': 'CCAFS SLC-40', 'value': 'CCAFS SLC-40'},\n",
    "                                ],\n",
    "                                value='ALL',\n",
    "                                placeholder=\"Select a Launch Site here\",\n",
    "                                searchable=True\n",
    "                                ),\n",
    "                                html.Br(),\n",
    "\n",
    "                                # TASK 2: Add a pie chart to show the total successful launches count for all sites\n",
    "                                # If a specific launch site was selected, show the Success vs. Failed counts for the site\n",
    "                                # Function decorator to specify function input and output\n",
    "                                html.Div(dcc.Graph(id='success-pie-chart')),\n",
    "                                html.Br(),\n",
    "\n",
    "                                html.P(\"Payload range (Kg):\"),\n",
    "                                # TASK 3: Add a slider to select payload range\n",
    "                                #dcc.RangeSlider(id='payload-slider',...)\n",
    "                                dcc.RangeSlider(id='payload-slider',\n",
    "                                min=0, max=10000, step=1000,\n",
    "                                marks={0: '0', 2500: '2500', 5000: '5000',\n",
    "                                7500: '7500', 10000: '10000'},\n",
    "                                value=[min_payload, max_payload]),\n",
    "\n",
    "                                # TASK 4: Add a scatter chart to show the correlation between payload and launch success\n",
    "                                html.Div(dcc.Graph(id='success-payload-scatter-chart')),\n",
    "                                ])"
   ]
  },
  {
   "cell_type": "code",
   "execution_count": null,
   "id": "03b998a4-1ca9-4fa3-841c-6da50420c35c",
   "metadata": {},
   "outputs": [],
   "source": [
    "# TASK 2:\n",
    "# Add a callback function for `site-dropdown` as input, `success-pie-chart` as output\n",
    "@app.callback(Output(component_id='success-pie-chart', component_property='figure'),\n",
    "                                        Input(component_id='site-dropdown', component_property='value'))\n",
    "def get_pie_chart(entered_site):\n",
    "    if entered_site == 'ALL':\n",
    "        df = spacex_df[spacex_df['class'] == 1]\n",
    "        fig = px.pie(df, names='Launch Site',\n",
    "        title='Total Success Launches By all sites')\n",
    "\n",
    "    else:\n",
    "        # return the outcomes piechart for a selected site\n",
    "        filtered_df = spacex_df.loc[spacex_df['Launch Site'] == entered_site]\n",
    "        fig = px.pie(filtered_df, names='class', \n",
    "        title=f'Total Success Launches for Site: {entered_site}')\n",
    "    return fig"
   ]
  },
  {
   "cell_type": "code",
   "execution_count": null,
   "id": "71540564-c628-44a8-a2d6-2fcb8e9b3d9a",
   "metadata": {},
   "outputs": [],
   "source": [
    " TASK 4:\n",
    "# Add a callback function for `site-dropdown` and `payload-slider` as inputs, `success-payload-scatter-chart` as output\n",
    "@app.callback(Output(component_id='success-payload-scatter-chart', component_property='figure'),\n",
    "                                        [Input(component_id='site-dropdown', component_property='value'), \n",
    "                                        Input(component_id='payload-slider', component_property='value')])\n",
    "def get_scatter_chart(site_dropdown, payload_slider):\n",
    "    df = spacex_df\n",
    "    low, high = payload_slider\n",
    "    mask = (df['Payload Mass (kg)'] > low) & (df['Payload Mass (kg)'] < high)\n",
    "    if site_dropdown == 'ALL':\n",
    "        fig = px.scatter(df[mask], x='Payload Mass (kg)', y='class',\n",
    "            color='Booster Version', size=\"Payload Mass (kg)\")\n",
    "    else:\n",
    "        low, high = payload_slider\n",
    "        df  = spacex_df.loc[spacex_df['Launch Site'] == site_dropdown]\n",
    "        mask = (df['Payload Mass (kg)'] > low) & (df['Payload Mass (kg)'] < high)\n",
    "        fig = px.scatter(df[mask], x='Payload Mass (kg)', y='class',\n",
    "            color='Booster Version', size=\"Payload Mass (kg)\")\n",
    "    return fig"
   ]
  },
  {
   "cell_type": "code",
   "execution_count": null,
   "id": "37de1380-ec14-4652-a466-0890251d3207",
   "metadata": {},
   "outputs": [],
   "source": [
    "# Run the app\n",
    "if __name__ == '__main__':\n",
    "    app.run_server()"
   ]
  }
 ],
 "metadata": {
  "kernelspec": {
   "display_name": "Python 3 (ipykernel)",
   "language": "python",
   "name": "python3"
  },
  "language_info": {
   "codemirror_mode": {
    "name": "ipython",
    "version": 3
   },
   "file_extension": ".py",
   "mimetype": "text/x-python",
   "name": "python",
   "nbconvert_exporter": "python",
   "pygments_lexer": "ipython3",
   "version": "3.9.12"
  }
 },
 "nbformat": 4,
 "nbformat_minor": 5
}
